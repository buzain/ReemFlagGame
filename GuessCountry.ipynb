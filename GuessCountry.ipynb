{
 "cells": [
  {
   "cell_type": "code",
   "execution_count": null,
   "metadata": {},
   "outputs": [],
   "source": [
    "import requests\n",
    "import random\n",
    "from IPython.display import Image, display\n",
    "\n",
    "output = requests.get('https://restcountries.eu/rest/v2/all')\n",
    "if output.status_code != 200:\n",
    "    #This means something went wrong.\n",
    "    raise Exception('GET countries {}'.format(output.status_code))\n",
    "countries = output.json()\n",
    "\n",
    "total_count = len(countries)\n",
    "selected = random.randint(1, total_count)\n",
    "option1 = random.randint(1, total_count)\n",
    "option2 = random.randint(1, total_count)\n",
    "\n",
    "selected_country = countries[selected - 1]\n",
    "option1_country = countries[option1 - 1]\n",
    "option2_country = countries[option2 - 1]\n",
    "\n",
    "print(\"Welcome to Country Guess Game!\")\n",
    "\n",
    "print(\"Which Country does this flag belong to?\\n\")\n",
    "\n",
    "display(Image(url=selected_country['flag'], width=400, height=150))\n",
    "\n",
    "options = [selected_country, option1_country, option2_country]\n",
    "random.shuffle(options)\n",
    "for x in range(3):\n",
    "    print(options[x]['name'])\n",
    "guess = input(\"\\nCountry name: \")\n",
    "if guess == selected_country['name']:\n",
    "    print(\"You did it!\")\n",
    "else:\n",
    "    print(\"Oof too bad :(, The correct answer is:\", selected_country['name'])\n"
   ]
  }
 ],
 "metadata": {
  "kernelspec": {
   "display_name": "Python 3",
   "language": "python",
   "name": "python3"
  },
  "language_info": {
   "codemirror_mode": {
    "name": "ipython",
    "version": 3
   },
   "file_extension": ".py",
   "mimetype": "text/x-python",
   "name": "python",
   "nbconvert_exporter": "python",
   "pygments_lexer": "ipython3",
   "version": "3.7.8"
  }
 },
 "nbformat": 4,
 "nbformat_minor": 4
}
